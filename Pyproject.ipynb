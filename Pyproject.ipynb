{
 "cells": [
  {
   "cell_type": "code",
   "execution_count": null,
   "id": "0b1b1d4c-9ee6-470a-9ffc-b39b0c0343c1",
   "metadata": {},
   "outputs": [],
   "source": [
    "\"\"\"не использованы библиотеки, модули\n",
    "формат .ipynb\n",
    "цельный сюжет\n",
    "концовки: 0/3\n",
    "пользователь влияет на исход\n",
    "условные конструкции: 0/4\n",
    "цикл while: 0/1\n",
    "цикл for: 0/1\n",
    "методы списков и множеств: 0/2\n",
    "готовый словарь: 0/1\n",
    "словарь по ходу: 0/1\n",
    "запись рута в файл\n",
    "\"\"\""
   ]
  },
  {
   "cell_type": "code",
   "execution_count": null,
   "id": "e5c80b52-04ac-4236-863d-d6cc3568e4c1",
   "metadata": {},
   "outputs": [],
   "source": [
    "text = [\"ТИХИЙ ДЕН: ВКУС БРЕПСИ\\n\\n\"]"
   ]
  },
  {
   "cell_type": "code",
   "execution_count": null,
   "id": "90548ee5-dd87-4fcc-8498-101e29fd4e33",
   "metadata": {},
   "outputs": [],
   "source": []
  },
  {
   "cell_type": "code",
   "execution_count": 7,
   "id": "125e17dd-bd73-4fb3-b4a3-3010899bb2c0",
   "metadata": {},
   "outputs": [],
   "source": [
    "with open(\"story.txt\", \"w\", encoding = \"UTF-8\") as final_story:\n",
    "    print(\" \".join(text), file = final_story)"
   ]
  }
 ],
 "metadata": {
  "kernelspec": {
   "display_name": "Python 3 (ipykernel)",
   "language": "python",
   "name": "python3"
  },
  "language_info": {
   "codemirror_mode": {
    "name": "ipython",
    "version": 3
   },
   "file_extension": ".py",
   "mimetype": "text/x-python",
   "name": "python",
   "nbconvert_exporter": "python",
   "pygments_lexer": "ipython3",
   "version": "3.12.7"
  }
 },
 "nbformat": 4,
 "nbformat_minor": 5
}
